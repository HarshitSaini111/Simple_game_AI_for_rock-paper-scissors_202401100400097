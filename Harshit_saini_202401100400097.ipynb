{
  "nbformat": 4,
  "nbformat_minor": 0,
  "metadata": {
    "colab": {
      "provenance": []
    },
    "kernelspec": {
      "name": "python3",
      "display_name": "Python 3"
    },
    "language_info": {
      "name": "python"
    }
  },
  "cells": [
    {
      "cell_type": "code",
      "execution_count": null,
      "metadata": {
        "id": "Z4WVJ3mOpQPF"
      },
      "outputs": [],
      "source": [
        "#import the random library\n",
        "import random\n",
        "#choices in game\n",
        "choices = [\"rock\",\"paper\",\"scissors\"]\n",
        "#function to show that ai is always winnner.\n",
        "def win(player,ai):\n",
        "  #if both player and ai choice are same , its a tie.\n",
        "  if player == ai:\n",
        "    return \"It's a tie! 🤝\"\n",
        "  return \"AI wins! 👾\"\n",
        "# Use while to run infinitely.\n",
        "while True:\n",
        "  #Enter the player choice\n",
        "  choice_player= input(\"Enter Rock, Paper, or Scissors (Or 'quit' to exit the game): \").lower()\n",
        "  #If a player types 'quit' then end the game\n",
        "  if choice_player == \"quit\":\n",
        "    print(\"Thanks For playing! 😊\")\n",
        "    break\n",
        "  # To check that player enter a valid choice or not\n",
        "  if choice_player not in choices:\n",
        "    print(\"Invalid choice! Please choose from Rock, Paper, or Scissors.\")\n",
        "    continue # Re enter the choice\n",
        "  if choice_player == \"rock\":\n",
        "    choice_ai = \"paper\" #Paper win over rock\n",
        "  elif choice_player == \"paper\":\n",
        "    choice_ai = \"scissors\" #scissors run over paper.\n",
        "  elif choice_player == \"scissors\":\n",
        "    choice_ai = \"rock\" #rock run over scissors.\n",
        "    #to print first letter capital if it is in lower.\n",
        "  print(f\"AI chose: {choice_ai.capitalize()}\")\n",
        "  #print the result\n",
        "  print(win(choice_player,choice_ai))"
      ]
    }
  ]
}